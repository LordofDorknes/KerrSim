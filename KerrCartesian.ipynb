{
 "cells": [
  {
   "cell_type": "code",
   "execution_count": null,
   "id": "initial_id",
   "metadata": {
    "collapsed": true
   },
   "outputs": [],
   "source": [
    "import textwrap as tw\n",
    "import numpy as np\n",
    "#black hole params\n",
    "a=0.5 #BH spin param\n",
    "M=1 #BH mass param\n",
    "s=2*M #BH schwartzchild radius\n",
    "\n",
    "#unsure validity?\n",
    "#r_h=(s+np.sqrt(s**2-4*a**2))/2\n",
    "#r_hi=(s-np.sqrt(s**2-4*a**2))/2\n",
    "\n",
    "#test particle\n",
    "m=0 #particle mass\n",
    "L=1 #particle angular momentum\n",
    "E=1#particle total energy\n",
    "\n",
    "\n",
    "#initial position\n",
    "\n",
    "#initial velocity\n",
    "\n",
    "\n",
    "\n",
    "\n",
    "mdlSummary=tw.dedent(f\"\"\"\n",
    "Black Hole Parameters:\\n\n",
    "a={a} (Rotation Value)\n",
    "M={M} (Mass)\\n\n",
    "r_h={r_h} (Outer Horizon radius)\n",
    "r_hi={r_hi} (Inner Horizon radius)\n",
    "\n",
    "Particle Parameters:\\n\n",
    "m={m} (Particle mass)\n",
    "L={L} (Angular Momentum)\n",
    "E={E} (Total Energy)\n",
    "\n",
    "\"\"\")\n",
    "print(mdlSummary)\n",
    "\n",
    "#define functions we will need \n",
    "def Delta(r):\n",
    "    delta=r**2 + a**2-r*s\n",
    "    return delta\n",
    "\n",
    "def P(r):\n",
    "    p=E*(r**2 + a**2) - a*L\n",
    "    return p\n",
    "\n",
    "def R(r):\n",
    "    R=-Delta(r)*((L-a*E)**2+m**2)+P(r)**2\n",
    "    return R\n",
    "\n"
   ]
  }
 ],
 "metadata": {
  "kernelspec": {
   "display_name": "Python 3",
   "language": "python",
   "name": "python3"
  },
  "language_info": {
   "codemirror_mode": {
    "name": "ipython",
    "version": 2
   },
   "file_extension": ".py",
   "mimetype": "text/x-python",
   "name": "python",
   "nbconvert_exporter": "python",
   "pygments_lexer": "ipython2",
   "version": "2.7.6"
  }
 },
 "nbformat": 4,
 "nbformat_minor": 5
}
