{
 "cells": [
  {
   "cell_type": "code",
   "execution_count": 22,
   "id": "initial_id",
   "metadata": {
    "collapsed": true,
    "ExecuteTime": {
     "end_time": "2023-12-03T23:05:06.698217600Z",
     "start_time": "2023-12-03T23:05:06.693213500Z"
    }
   },
   "outputs": [
    {
     "name": "stdout",
     "output_type": "stream",
     "text": [
      "\n",
      "Black Hole Parameters:\n",
      "a=0.5 (Rotation Value)\n",
      "M=1 (Mass Value)\n",
      "Light Ray Parameters:\n",
      "L=0.5 (Angular Momentum\n",
      "E=0.5 (Total Energy)\n"
     ]
    }
   ],
   "source": [
    "#black hole params\n",
    "a=0.5 #BH spin param\n",
    "M=1 #BH mass param\n",
    "s=2*M #BH schwartzchild radius\n",
    "#test light params\n",
    "L=0.5 #light angular momentum\n",
    "E=0.5 #light total energy\n",
    "\n",
    "\n",
    "#define functions we will need \n",
    "def Delta(r):\n",
    "    delta=r**2 + a**2-r*s\n",
    "    return delta\n",
    "\n",
    "def P(r):\n",
    "    p=E*(r**2 + a**2) - a*L\n",
    "    return p\n",
    "\n",
    "def R(r):\n",
    "    R=-Delta(r)*(L-a*E)**2+P(r)**2\n",
    "    return R\n",
    "\n"
   ]
  },
  {
   "cell_type": "code",
   "execution_count": 22,
   "outputs": [],
   "source": [],
   "metadata": {
    "collapsed": false,
    "ExecuteTime": {
     "end_time": "2023-12-03T23:05:06.708712500Z",
     "start_time": "2023-12-03T23:05:06.699716100Z"
    }
   },
   "id": "bd94558aa2889eb1"
  }
 ],
 "metadata": {
  "kernelspec": {
   "display_name": "Python 3",
   "language": "python",
   "name": "python3"
  },
  "language_info": {
   "codemirror_mode": {
    "name": "ipython",
    "version": 2
   },
   "file_extension": ".py",
   "mimetype": "text/x-python",
   "name": "python",
   "nbconvert_exporter": "python",
   "pygments_lexer": "ipython2",
   "version": "2.7.6"
  }
 },
 "nbformat": 4,
 "nbformat_minor": 5
}
