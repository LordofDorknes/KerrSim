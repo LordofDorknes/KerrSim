{
 "cells": [
  {
   "cell_type": "code",
   "execution_count": 21,
   "outputs": [],
   "source": [
    "import textwrap as tw\n",
    "#wrapper object for the model parameters.\n",
    "#Simplifies accessing them later at least with my programming style\n",
    "# one could simply index and array and pass that to everything, but it would harm clarity\n",
    "class modelparams:\n",
    "    #object initialization method\n",
    "        def __init__(self,a,M,L,E):\n",
    "            self.a=a\n",
    "            self.M=M\n",
    "            self.L=L\n",
    "            self.E=E\n",
    "    #method for printing values within model object\n",
    "        def __str__(self):\n",
    "            selfstring=f\"\"\"\n",
    "            Black Hole Parameters:\n",
    "            a={self.a} (Rotation Value)\n",
    "            M={self.M} (Mass Value)\n",
    "            Light Ray Parameters:\n",
    "            L={self.L} (Angular Momentum\n",
    "            E={self.E} (Total Energy)\"\"\"\n",
    "            return tw.dedent(selfstring) #removes strange indents\n"
   ],
   "metadata": {
    "collapsed": false,
    "ExecuteTime": {
     "end_time": "2023-12-03T23:05:06.696215400Z",
     "start_time": "2023-12-03T23:05:06.686216200Z"
    }
   },
   "id": "2e168bc402f5bac3"
  },
  {
   "cell_type": "code",
   "execution_count": 22,
   "id": "initial_id",
   "metadata": {
    "collapsed": true,
    "ExecuteTime": {
     "end_time": "2023-12-03T23:05:06.698217600Z",
     "start_time": "2023-12-03T23:05:06.693213500Z"
    }
   },
   "outputs": [
    {
     "name": "stdout",
     "output_type": "stream",
     "text": [
      "\n",
      "Black Hole Parameters:\n",
      "a=0.5 (Rotation Value)\n",
      "M=1 (Mass Value)\n",
      "Light Ray Parameters:\n",
      "L=0.5 (Angular Momentum\n",
      "E=0.5 (Total Energy)\n"
     ]
    }
   ],
   "source": [
    "#black hole params\n",
    "a=0.5\n",
    "M=1\n",
    "#test light params\n",
    "L=0.5\n",
    "E=0.5\n",
    "#init the model object \"mdl\"\n",
    "mdl=modelparams(a,M,L,E)\n",
    "\n",
    "print(mdl)\n",
    "\n",
    "\n",
    "def Delta(r,model):\n",
    "    delta=r**2 + model.a**2+\n",
    "    pass\n",
    "\n",
    "def P(r,model):\n",
    "    pass\n",
    "    \n",
    "def R(r,model):\n",
    "    pass\n"
   ]
  },
  {
   "cell_type": "code",
   "execution_count": 22,
   "outputs": [],
   "source": [],
   "metadata": {
    "collapsed": false,
    "ExecuteTime": {
     "end_time": "2023-12-03T23:05:06.708712500Z",
     "start_time": "2023-12-03T23:05:06.699716100Z"
    }
   },
   "id": "bd94558aa2889eb1"
  }
 ],
 "metadata": {
  "kernelspec": {
   "display_name": "Python 3",
   "language": "python",
   "name": "python3"
  },
  "language_info": {
   "codemirror_mode": {
    "name": "ipython",
    "version": 2
   },
   "file_extension": ".py",
   "mimetype": "text/x-python",
   "name": "python",
   "nbconvert_exporter": "python",
   "pygments_lexer": "ipython2",
   "version": "2.7.6"
  }
 },
 "nbformat": 4,
 "nbformat_minor": 5
}
