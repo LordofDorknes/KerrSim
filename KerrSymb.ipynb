{
 "cells": [
  {
   "cell_type": "markdown",
   "source": [
    "Trying to use sympy as a replacement for mathematica to get my ODEs, then solving hte geodesic equaiton numerically\n"
   ],
   "metadata": {
    "collapsed": false
   },
   "id": "d10558453096c037"
  },
  {
   "cell_type": "code",
   "execution_count": 55,
   "id": "initial_id",
   "metadata": {
    "collapsed": true,
    "ExecuteTime": {
     "end_time": "2023-12-05T02:42:19.461666500Z",
     "start_time": "2023-12-05T02:42:19.435168700Z"
    }
   },
   "outputs": [],
   "source": [
    "from sympy import Function, dsolve, Derivative, checkodesol,Symbol,diff, symbols\n",
    "from sympy.abc import x\n",
    "from sympy import MatrixSymbol, Matrix, Array\n",
    "import sympy.diffgeom as dg\n",
    "from sympy.diffgeom import Manifold, Patch, TensorProduct\n",
    "import numpy as np\n",
    "import sympy as sym\n",
    "from sympy import simplify\n",
    "\n",
    "m=Manifold('M',3)\n",
    "p=Patch('P',m)\n",
    "\n",
    "\n",
    "\n",
    "t,phi,r = symbols('t phi r')\n",
    "coords=[t,phi,r]\n",
    "\n",
    "BL=dg.CoordSystem('Boyer-Lindquist',p,[t,phi,r])\n",
    "\n",
    "\n",
    "\n",
    "s=Symbol('s')\n",
    "a=Symbol('a')\n",
    "\n"
   ]
  },
  {
   "cell_type": "code",
   "execution_count": 56,
   "outputs": [],
   "source": [
    "def Delta(r):\n",
    "    delta=r**2 + a**2-r*s\n",
    "    return delta\n",
    "\n",
    "def P(r):\n",
    "    p=E*(r**2 + a**2) - a*L\n",
    "    return p\n",
    "\n",
    "def R(r):\n",
    "    R=-Delta(r)*((L-a*E)**2+m**2)+P(r)**2\n",
    "    return R"
   ],
   "metadata": {
    "collapsed": false,
    "ExecuteTime": {
     "end_time": "2023-12-05T02:42:19.462666400Z",
     "start_time": "2023-12-05T02:42:19.439667600Z"
    }
   },
   "id": "5e3c5d209ffc61a7"
  },
  {
   "cell_type": "code",
   "execution_count": 57,
   "outputs": [
    {
     "name": "stdout",
     "output_type": "stream",
     "text": [
      "Matrix([[-1 + s/r, -a*s/r, 0], [-a*s/r, a**2 + a**2*s/r + r**2, 0], [0, 0, r**2/(a**2 + r**2 - r*s)]])\n",
      "Matrix([[-1 + s/r, -a*s/r, 0], [-a*s/r, a**2 + a**2*s/r + r**2, 0], [0, 0, r**2/(a**2 + r**2 - r*s)]])\n"
     ]
    },
    {
     "data": {
      "text/plain": "-a*s*TensorProduct(dt, dphi)/r - a*s*TensorProduct(dphi, dt)/r + r**2*TensorProduct(dr, dr)/(a**2 + r**2 - r*s) + (-1 + s/r)*TensorProduct(dt, dt) + (a**2 + a**2*s/r + r**2)*TensorProduct(dphi, dphi)",
      "text/latex": "$\\displaystyle - \\frac{a s \\operatorname{d}t \\otimes \\operatorname{d}\\phi}{r} - \\frac{a s \\operatorname{d}\\phi \\otimes \\operatorname{d}t}{r} + \\frac{r^{2} \\operatorname{d}r \\otimes \\operatorname{d}r}{a^{2} + r^{2} - r s} + \\left(-1 + \\frac{s}{r}\\right) \\operatorname{d}t \\otimes \\operatorname{d}t + \\left(a^{2} + \\frac{a^{2} s}{r} + r^{2}\\right) \\operatorname{d}\\phi \\otimes \\operatorname{d}\\phi$"
     },
     "execution_count": 57,
     "metadata": {},
     "output_type": "execute_result"
    }
   ],
   "source": [
    "tt=-(1-s/r)\n",
    "tphi=-a*s/r\n",
    "phiphi=r**2+a**2+a**2*s/r\n",
    "rr=r**2/Delta(r)\n",
    "\n",
    "metric_components = Matrix([[tt,tphi,0],[tphi,phiphi,0],[0,0,rr]])\n",
    "(dt,dphi,dr)=BL.base_oneforms()\n",
    "\n",
    "metric = tt*TensorProduct(dt,dt) +tphi*TensorProduct(dt,dphi)+ tphi*TensorProduct(dphi,dt)+phiphi*TensorProduct(dphi,dphi)+rr*TensorProduct(dr,dr)\n",
    "\n",
    "\n",
    "print(metric_components)\n",
    "\n",
    "print(dg.twoform_to_matrix(metric))\n",
    "metric"
   ],
   "metadata": {
    "collapsed": false,
    "ExecuteTime": {
     "end_time": "2023-12-05T02:42:19.655666900Z",
     "start_time": "2023-12-05T02:42:19.446666500Z"
    }
   },
   "id": "78d630c156557564"
  },
  {
   "cell_type": "markdown",
   "source": [
    "That's encouraging"
   ],
   "metadata": {
    "collapsed": false
   },
   "id": "93d78e9c08cd6de5"
  },
  {
   "cell_type": "code",
   "execution_count": 58,
   "outputs": [],
   "source": [
    "christ=dg.metric_to_Christoffel_2nd(metric)\n",
    "#this shit do not be working\n",
    "#seems to be fundamentally broken, so I'll do it myself\n",
    "\n"
   ],
   "metadata": {
    "collapsed": false,
    "ExecuteTime": {
     "end_time": "2023-12-05T02:42:20.220666800Z",
     "start_time": "2023-12-05T02:42:19.648168Z"
    }
   },
   "id": "8f7c6830f0a40610"
  },
  {
   "cell_type": "code",
   "execution_count": 59,
   "outputs": [],
   "source": [
    "from sympy.tensor.array import MutableDenseNDimArray\n",
    "def christoffel_single(metric_matrix,coords,index1,index2,index3):\n",
    "    dim=len(coords)\n",
    "    partialsum=0\n",
    "    for beta in range(dim):\n",
    "        partialsum += 1/2*metric_matrix.inv()[index1,beta]*(diff(metric_matrix[beta,index2],coords[index3])+diff(metric_matrix[beta,index3],coords[index2])-diff(metric_matrix[index2,index3],coords[beta]))\n",
    "    christf_single=partialsum\n",
    "    return christf_single\n",
    "\n",
    "def christoffel_symbols(metric,coords):\n",
    "    dim=len(coords)\n",
    "    christoffel_total=MutableDenseNDimArray.zeros(dim,dim,dim)\n",
    "    \n",
    "    for i in range(dim):\n",
    "        for j in range(dim):\n",
    "            for k in range(dim):\n",
    "                christoffel_total[i,j,k]=christoffel_single(metric,coords,i,j,k)\n",
    "    return christoffel_total\n",
    "    \n",
    "    \n",
    "    \n"
   ],
   "metadata": {
    "collapsed": false,
    "ExecuteTime": {
     "end_time": "2023-12-05T02:42:20.233166700Z",
     "start_time": "2023-12-05T02:42:20.226167800Z"
    }
   },
   "id": "a059c51d39c6261c"
  },
  {
   "cell_type": "code",
   "execution_count": 60,
   "outputs": [
    {
     "data": {
      "text/plain": "[[[0, 0, 0.5*s*(a**2 + r**2)/(r**2*(a**2 + r**2 - r*s))], [0, 0, -0.5*a*s*(a**2 + 3*r**2)/(r**2*(a**2 + r**2 - r*s))], [0.5*s*(a**2 + r**2)/(r**2*(a**2 + r**2 - r*s)), -0.5*a*s*(a**2 + 3*r**2)/(r**2*(a**2 + r**2 - r*s)), 0]], [[0, 0, 0.5*a*s/(r**2*(a**2 + r**2 - r*s))], [0, 0, 1.0*(-0.5*a**2*s + 1.0*r**3 - 1.0*r**2*s)/(r**2*(a**2 + r**2 - r*s))], [0.5*a*s/(r**2*(a**2 + r**2 - r*s)), 1.0*(-0.5*a**2*s + 1.0*r**3 - 1.0*r**2*s)/(r**2*(a**2 + r**2 - r*s)), 0]], [[0.5*s*(a**2 + r**2 - r*s)/r**4, 0.5*a*s*(-a**2 - r**2 + r*s)/r**4, 0], [0.5*a*s*(-a**2 - r**2 + r*s)/r**4, 0.5*(a**2*s - 2*r**3)*(a**2 + r**2 - r*s)/r**4, 0], [0, 0, 1.0*(1.0*a**2 - 0.5*r*s)/(r*(a**2 + r**2 - r*s))]]]",
      "text/latex": "$\\displaystyle \\left[\\begin{matrix}\\left[\\begin{matrix}0 & 0 & \\frac{0.5 s \\left(a^{2} + r^{2}\\right)}{r^{2} \\left(a^{2} + r^{2} - r s\\right)}\\\\0 & 0 & - \\frac{0.5 a s \\left(a^{2} + 3 r^{2}\\right)}{r^{2} \\left(a^{2} + r^{2} - r s\\right)}\\\\\\frac{0.5 s \\left(a^{2} + r^{2}\\right)}{r^{2} \\left(a^{2} + r^{2} - r s\\right)} & - \\frac{0.5 a s \\left(a^{2} + 3 r^{2}\\right)}{r^{2} \\left(a^{2} + r^{2} - r s\\right)} & 0\\end{matrix}\\right] & \\left[\\begin{matrix}0 & 0 & \\frac{0.5 a s}{r^{2} \\left(a^{2} + r^{2} - r s\\right)}\\\\0 & 0 & \\frac{1.0 \\left(- 0.5 a^{2} s + 1.0 r^{3} - 1.0 r^{2} s\\right)}{r^{2} \\left(a^{2} + r^{2} - r s\\right)}\\\\\\frac{0.5 a s}{r^{2} \\left(a^{2} + r^{2} - r s\\right)} & \\frac{1.0 \\left(- 0.5 a^{2} s + 1.0 r^{3} - 1.0 r^{2} s\\right)}{r^{2} \\left(a^{2} + r^{2} - r s\\right)} & 0\\end{matrix}\\right] & \\left[\\begin{matrix}\\frac{0.5 s \\left(a^{2} + r^{2} - r s\\right)}{r^{4}} & \\frac{0.5 a s \\left(- a^{2} - r^{2} + r s\\right)}{r^{4}} & 0\\\\\\frac{0.5 a s \\left(- a^{2} - r^{2} + r s\\right)}{r^{4}} & \\frac{0.5 \\left(a^{2} s - 2 r^{3}\\right) \\left(a^{2} + r^{2} - r s\\right)}{r^{4}} & 0\\\\0 & 0 & \\frac{1.0 \\cdot \\left(1.0 a^{2} - 0.5 r s\\right)}{r \\left(a^{2} + r^{2} - r s\\right)}\\end{matrix}\\right]\\end{matrix}\\right]$"
     },
     "execution_count": 60,
     "metadata": {},
     "output_type": "execute_result"
    }
   ],
   "source": [
    "christoff_pretty=simplify(christoffel_symbols(metric_components,coords))\n",
    "christoff_pretty"
   ],
   "metadata": {
    "collapsed": false,
    "ExecuteTime": {
     "end_time": "2023-12-05T02:42:31.815666600Z",
     "start_time": "2023-12-05T02:42:20.228167800Z"
    }
   },
   "id": "d856d3917e4f4e3a"
  },
  {
   "cell_type": "markdown",
   "source": [
    "IT FINALLY WORKED\n"
   ],
   "metadata": {
    "collapsed": false
   },
   "id": "9b407d3b816bb1f9"
  },
  {
   "cell_type": "markdown",
   "source": [],
   "metadata": {
    "collapsed": false
   },
   "id": "545a6f711aed990c"
  },
  {
   "cell_type": "code",
   "execution_count": null,
   "outputs": [],
   "source": [],
   "metadata": {
    "collapsed": false
   },
   "id": "c93090a77b7500cf"
  }
 ],
 "metadata": {
  "kernelspec": {
   "display_name": "Python 3",
   "language": "python",
   "name": "python3"
  },
  "language_info": {
   "codemirror_mode": {
    "name": "ipython",
    "version": 2
   },
   "file_extension": ".py",
   "mimetype": "text/x-python",
   "name": "python",
   "nbconvert_exporter": "python",
   "pygments_lexer": "ipython2",
   "version": "2.7.6"
  }
 },
 "nbformat": 4,
 "nbformat_minor": 5
}
