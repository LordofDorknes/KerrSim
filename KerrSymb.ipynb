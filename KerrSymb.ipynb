{
 "cells": [
  {
   "cell_type": "markdown",
   "source": [
    "Trying to use sympy as a replacement for mathematica to get my ODEs, then solving hte geodesic equaiton numerically\n"
   ],
   "metadata": {
    "collapsed": false
   },
   "id": "d10558453096c037"
  },
  {
   "cell_type": "code",
   "execution_count": 90,
   "id": "initial_id",
   "metadata": {
    "collapsed": true,
    "ExecuteTime": {
     "end_time": "2023-12-05T03:21:18.041710Z",
     "start_time": "2023-12-05T03:21:18.022710400Z"
    }
   },
   "outputs": [],
   "source": [
    "from sympy import Function, dsolve, Derivative, checkodesol,Symbol,diff, symbols\n",
    "from sympy.abc import x\n",
    "from sympy import MatrixSymbol, Matrix, Array\n",
    "import sympy.diffgeom as dg\n",
    "from sympy.diffgeom import Manifold, Patch, TensorProduct\n",
    "import numpy as np\n",
    "import sympy as sym\n",
    "from sympy import simplify\n",
    "\n",
    "m=Manifold('M',3)\n",
    "p=Patch('P',m)\n",
    "\n",
    "\n",
    "\n",
    "t,phi,r = symbols('t phi r')\n",
    "tp,phip,rp = symbols((\"\\dot{t}\", \"\\dot{\\phi}\",\"\\dot{r}\" ))\n",
    "tpp,phipp,rpp =symbols(\"t'' phi'' r''\")\n",
    "\n",
    "coords=[t,phi,r]\n",
    "coordsp=[tp,phip,rp]\n",
    "coordspp=[tpp,phipp,rpp]\n",
    "\n",
    "BL=dg.CoordSystem('Boyer-Lindquist',p,[t,phi,r])\n",
    "\n",
    "\n",
    "\n",
    "s=Symbol('s')\n",
    "a=Symbol('a')\n",
    "\n"
   ]
  },
  {
   "cell_type": "code",
   "execution_count": 91,
   "outputs": [],
   "source": [
    "def Delta(r):\n",
    "    delta=r**2 + a**2-r*s\n",
    "    return delta\n",
    "\n",
    "def P(r):\n",
    "    p=E*(r**2 + a**2) - a*L\n",
    "    return p\n",
    "\n",
    "def R(r):\n",
    "    R=-Delta(r)*((L-a*E)**2+m**2)+P(r)**2\n",
    "    return R"
   ],
   "metadata": {
    "collapsed": false,
    "ExecuteTime": {
     "end_time": "2023-12-05T03:21:18.041710Z",
     "start_time": "2023-12-05T03:21:18.026711800Z"
    }
   },
   "id": "5e3c5d209ffc61a7"
  },
  {
   "cell_type": "code",
   "execution_count": 92,
   "outputs": [
    {
     "name": "stdout",
     "output_type": "stream",
     "text": [
      "Matrix([[-1 + s/r, -a*s/r, 0], [-a*s/r, a**2 + a**2*s/r + r**2, 0], [0, 0, r**2/(a**2 + r**2 - r*s)]])\n",
      "Matrix([[-1 + s/r, -a*s/r, 0], [-a*s/r, a**2 + a**2*s/r + r**2, 0], [0, 0, r**2/(a**2 + r**2 - r*s)]])\n"
     ]
    },
    {
     "data": {
      "text/plain": "-a*s*TensorProduct(dt, dphi)/r - a*s*TensorProduct(dphi, dt)/r + r**2*TensorProduct(dr, dr)/(a**2 + r**2 - r*s) + (-1 + s/r)*TensorProduct(dt, dt) + (a**2 + a**2*s/r + r**2)*TensorProduct(dphi, dphi)",
      "text/latex": "$\\displaystyle - \\frac{a s \\operatorname{d}t \\otimes \\operatorname{d}\\phi}{r} - \\frac{a s \\operatorname{d}\\phi \\otimes \\operatorname{d}t}{r} + \\frac{r^{2} \\operatorname{d}r \\otimes \\operatorname{d}r}{a^{2} + r^{2} - r s} + \\left(-1 + \\frac{s}{r}\\right) \\operatorname{d}t \\otimes \\operatorname{d}t + \\left(a^{2} + \\frac{a^{2} s}{r} + r^{2}\\right) \\operatorname{d}\\phi \\otimes \\operatorname{d}\\phi$"
     },
     "execution_count": 92,
     "metadata": {},
     "output_type": "execute_result"
    }
   ],
   "source": [
    "tt=-(1-s/r)\n",
    "tphi=-a*s/r\n",
    "phiphi=r**2+a**2+a**2*s/r\n",
    "rr=r**2/Delta(r)\n",
    "\n",
    "metric_components = Matrix([[tt,tphi,0],[tphi,phiphi,0],[0,0,rr]])\n",
    "(dt,dphi,dr)=BL.base_oneforms()\n",
    "\n",
    "metric = tt*TensorProduct(dt,dt) +tphi*TensorProduct(dt,dphi)+ tphi*TensorProduct(dphi,dt)+phiphi*TensorProduct(dphi,dphi)+rr*TensorProduct(dr,dr)\n",
    "\n",
    "\n",
    "print(metric_components)\n",
    "\n",
    "print(dg.twoform_to_matrix(metric))\n",
    "metric"
   ],
   "metadata": {
    "collapsed": false,
    "ExecuteTime": {
     "end_time": "2023-12-05T03:21:18.236209300Z",
     "start_time": "2023-12-05T03:21:18.035208800Z"
    }
   },
   "id": "78d630c156557564"
  },
  {
   "cell_type": "markdown",
   "source": [
    "That's encouraging"
   ],
   "metadata": {
    "collapsed": false
   },
   "id": "93d78e9c08cd6de5"
  },
  {
   "cell_type": "code",
   "execution_count": 93,
   "outputs": [],
   "source": [
    "christ=dg.metric_to_Christoffel_2nd(metric)\n",
    "#this shit do not be working\n",
    "#seems to be fundamentally broken, so I'll do it myself\n",
    "\n"
   ],
   "metadata": {
    "collapsed": false,
    "ExecuteTime": {
     "end_time": "2023-12-05T03:21:18.884708900Z",
     "start_time": "2023-12-05T03:21:18.233711300Z"
    }
   },
   "id": "8f7c6830f0a40610"
  },
  {
   "cell_type": "code",
   "execution_count": 94,
   "outputs": [],
   "source": [
    "from sympy.tensor.array import MutableDenseNDimArray\n",
    "def christoffel_single(metric_matrix,coords,index1,index2,index3):\n",
    "    dim=len(coords)\n",
    "    partialsum=0\n",
    "    for beta in range(dim):\n",
    "        partialsum += 1/2*metric_matrix.inv()[index1,beta]*(diff(metric_matrix[beta,index2],coords[index3])+diff(metric_matrix[beta,index3],coords[index2])-diff(metric_matrix[index2,index3],coords[beta]))\n",
    "    christf_single=partialsum\n",
    "    return christf_single\n",
    "\n",
    "def christoffel_symbols(metric,coords):\n",
    "    dim=len(coords)\n",
    "    christoffel_total=MutableDenseNDimArray.zeros(dim,dim,dim)\n",
    "    \n",
    "    for i in range(dim):\n",
    "        for j in range(dim):\n",
    "            for k in range(dim):\n",
    "                christoffel_total[i,j,k]=christoffel_single(metric,coords,i,j,k)\n",
    "    return christoffel_total\n",
    "    \n",
    "    \n",
    "    \n"
   ],
   "metadata": {
    "collapsed": false,
    "ExecuteTime": {
     "end_time": "2023-12-05T03:21:18.891212100Z",
     "start_time": "2023-12-05T03:21:18.888210300Z"
    }
   },
   "id": "a059c51d39c6261c"
  },
  {
   "cell_type": "code",
   "execution_count": 95,
   "outputs": [
    {
     "data": {
      "text/plain": "[[[0, 0, 0.5*s*(a**2 + r**2)/(r**2*(a**2 + r**2 - r*s))], [0, 0, -0.5*a*s*(a**2 + 3*r**2)/(r**2*(a**2 + r**2 - r*s))], [0.5*s*(a**2 + r**2)/(r**2*(a**2 + r**2 - r*s)), -0.5*a*s*(a**2 + 3*r**2)/(r**2*(a**2 + r**2 - r*s)), 0]], [[0, 0, 0.5*a*s/(r**2*(a**2 + r**2 - r*s))], [0, 0, 1.0*(-0.5*a**2*s + 1.0*r**3 - 1.0*r**2*s)/(r**2*(a**2 + r**2 - r*s))], [0.5*a*s/(r**2*(a**2 + r**2 - r*s)), 1.0*(-0.5*a**2*s + 1.0*r**3 - 1.0*r**2*s)/(r**2*(a**2 + r**2 - r*s)), 0]], [[0.5*s*(a**2 + r**2 - r*s)/r**4, 0.5*a*s*(-a**2 - r**2 + r*s)/r**4, 0], [0.5*a*s*(-a**2 - r**2 + r*s)/r**4, 0.5*(a**2*s - 2*r**3)*(a**2 + r**2 - r*s)/r**4, 0], [0, 0, 1.0*(1.0*a**2 - 0.5*r*s)/(r*(a**2 + r**2 - r*s))]]]",
      "text/latex": "$\\displaystyle \\left[\\begin{matrix}\\left[\\begin{matrix}0 & 0 & \\frac{0.5 s \\left(a^{2} + r^{2}\\right)}{r^{2} \\left(a^{2} + r^{2} - r s\\right)}\\\\0 & 0 & - \\frac{0.5 a s \\left(a^{2} + 3 r^{2}\\right)}{r^{2} \\left(a^{2} + r^{2} - r s\\right)}\\\\\\frac{0.5 s \\left(a^{2} + r^{2}\\right)}{r^{2} \\left(a^{2} + r^{2} - r s\\right)} & - \\frac{0.5 a s \\left(a^{2} + 3 r^{2}\\right)}{r^{2} \\left(a^{2} + r^{2} - r s\\right)} & 0\\end{matrix}\\right] & \\left[\\begin{matrix}0 & 0 & \\frac{0.5 a s}{r^{2} \\left(a^{2} + r^{2} - r s\\right)}\\\\0 & 0 & \\frac{1.0 \\left(- 0.5 a^{2} s + 1.0 r^{3} - 1.0 r^{2} s\\right)}{r^{2} \\left(a^{2} + r^{2} - r s\\right)}\\\\\\frac{0.5 a s}{r^{2} \\left(a^{2} + r^{2} - r s\\right)} & \\frac{1.0 \\left(- 0.5 a^{2} s + 1.0 r^{3} - 1.0 r^{2} s\\right)}{r^{2} \\left(a^{2} + r^{2} - r s\\right)} & 0\\end{matrix}\\right] & \\left[\\begin{matrix}\\frac{0.5 s \\left(a^{2} + r^{2} - r s\\right)}{r^{4}} & \\frac{0.5 a s \\left(- a^{2} - r^{2} + r s\\right)}{r^{4}} & 0\\\\\\frac{0.5 a s \\left(- a^{2} - r^{2} + r s\\right)}{r^{4}} & \\frac{0.5 \\left(a^{2} s - 2 r^{3}\\right) \\left(a^{2} + r^{2} - r s\\right)}{r^{4}} & 0\\\\0 & 0 & \\frac{1.0 \\cdot \\left(1.0 a^{2} - 0.5 r s\\right)}{r \\left(a^{2} + r^{2} - r s\\right)}\\end{matrix}\\right]\\end{matrix}\\right]$"
     },
     "execution_count": 95,
     "metadata": {},
     "output_type": "execute_result"
    }
   ],
   "source": [
    "christoff_pretty=simplify(christoffel_symbols(metric_components,coords))\n",
    "christoff_pretty"
   ],
   "metadata": {
    "collapsed": false,
    "ExecuteTime": {
     "end_time": "2023-12-05T03:21:30.842210Z",
     "start_time": "2023-12-05T03:21:18.891709900Z"
    }
   },
   "id": "d856d3917e4f4e3a"
  },
  {
   "cell_type": "markdown",
   "source": [
    "IT FINALLY WORKED\n"
   ],
   "metadata": {
    "collapsed": false
   },
   "id": "9b407d3b816bb1f9"
  },
  {
   "cell_type": "markdown",
   "source": [],
   "metadata": {
    "collapsed": false
   },
   "id": "545a6f711aed990c"
  },
  {
   "cell_type": "code",
   "execution_count": 102,
   "outputs": [
    {
     "data": {
      "text/plain": "1.0*\\dot{r}*s*(\\dot{\\phi}*a*(a**2 + 3*r**2) - \\dot{t}*(a**2 + r**2))/(r**2*(a**2 + r**2 - r*s))",
      "text/latex": "$\\displaystyle \\frac{1.0 \\dot{r} s \\left(\\dot{\\phi} a \\left(a^{2} + 3 r^{2}\\right) - \\dot{t} \\left(a^{2} + r^{2}\\right)\\right)}{r^{2} \\left(a^{2} + r^{2} - r s\\right)}$"
     },
     "execution_count": 102,
     "metadata": {},
     "output_type": "execute_result"
    }
   ],
   "source": [
    "def geod_second_deriv(coordinate,coords,coord_derivs,christoffel_symbols_all):\n",
    "    dim=len(coords)\n",
    "    coordIndex=coords.index(coordinate)\n",
    "    \n",
    "    expression=0\n",
    "    for i in range(dim):\n",
    "        for j in range(dim):\n",
    "            expression+=-christoffel_symbols_all[coordIndex,i,j]*coord_derivs[i]*coord_derivs[j]\n",
    "    return expression\n",
    "\n",
    "z=Symbol('z')\n",
    "\n",
    "\n",
    "t_second_der=simplify(geod_second_deriv(t,coords,coordsp,christoff_pretty))\n",
    "simplify(t_second_der)"
   ],
   "metadata": {
    "collapsed": false,
    "ExecuteTime": {
     "end_time": "2023-12-05T03:23:07.943341300Z",
     "start_time": "2023-12-05T03:23:07.905340800Z"
    }
   },
   "id": "c93090a77b7500cf"
  },
  {
   "cell_type": "code",
   "execution_count": 104,
   "outputs": [
    {
     "data": {
      "text/plain": "\\dot{r}*(2.0*\\dot{\\phi}*(0.5*a**2*s - 1.0*r**3 + 1.0*r**2*s) - 1.0*\\dot{t}*a*s)/(r**2*(a**2 + r**2 - r*s))",
      "text/latex": "$\\displaystyle \\frac{\\dot{r} \\left(2.0 \\dot{\\phi} \\left(0.5 a^{2} s - 1.0 r^{3} + 1.0 r^{2} s\\right) - 1.0 \\dot{t} a s\\right)}{r^{2} \\left(a^{2} + r^{2} - r s\\right)}$"
     },
     "execution_count": 104,
     "metadata": {},
     "output_type": "execute_result"
    }
   ],
   "source": [
    "phi_second_der=simplify(geod_second_deriv(phi,coords,coordsp,christoff_pretty))\n",
    "phi_second_der\n"
   ],
   "metadata": {
    "collapsed": false,
    "ExecuteTime": {
     "end_time": "2023-12-05T03:23:44.828819100Z",
     "start_time": "2023-12-05T03:23:44.729319600Z"
    }
   },
   "id": "741c5d065c929126"
  },
  {
   "cell_type": "code",
   "execution_count": 105,
   "outputs": [
    {
     "data": {
      "text/plain": "(\\dot{r}**2*r**3*(-1.0*a**2 + 0.5*r*s) + (a**2 + r**2 - r*s)**2*(-0.5*\\dot{\\phi}**2*(a**2*s - 2*r**3) + 1.0*\\dot{\\phi}*\\dot{t}*a*s - 0.5*\\dot{t}**2*s))/(r**4*(a**2 + r**2 - r*s))",
      "text/latex": "$\\displaystyle \\frac{\\dot{r}^{2} r^{3} \\left(- 1.0 a^{2} + 0.5 r s\\right) + \\left(a^{2} + r^{2} - r s\\right)^{2} \\left(- 0.5 \\dot{\\phi}^{2} \\left(a^{2} s - 2 r^{3}\\right) + 1.0 \\dot{\\phi} \\dot{t} a s - 0.5 \\dot{t}^{2} s\\right)}{r^{4} \\left(a^{2} + r^{2} - r s\\right)}$"
     },
     "execution_count": 105,
     "metadata": {},
     "output_type": "execute_result"
    }
   ],
   "source": [
    "r_second_der=simplify(geod_second_deriv(r,coords,coordsp,christoff_pretty))\n",
    "r_second_der"
   ],
   "metadata": {
    "collapsed": false,
    "ExecuteTime": {
     "end_time": "2023-12-05T03:23:47.334336900Z",
     "start_time": "2023-12-05T03:23:47.117835500Z"
    }
   },
   "id": "fd996287df4f214e"
  },
  {
   "cell_type": "code",
   "execution_count": 113,
   "outputs": [
    {
     "data": {
      "text/plain": "1.0*\\dot{r}*s*(\\dot{\\phi}*a*(a**2 + 3*r**2) - \\dot{t}*(a**2 + r**2))/(r**2*(a**2 + r**2 - r*s))",
      "text/latex": "$\\displaystyle \\frac{1.0 \\dot{r} s \\left(\\dot{\\phi} a \\left(a^{2} + 3 r^{2}\\right) - \\dot{t} \\left(a^{2} + r^{2}\\right)\\right)}{r^{2} \\left(a^{2} + r^{2} - r s\\right)}$"
     },
     "execution_count": 113,
     "metadata": {},
     "output_type": "execute_result"
    }
   ],
   "source": [
    "from sympy.utilities.lambdify import lambdify\n",
    "\n",
    "variablestuple=(t,phi,r,tp,phip,rp)\n",
    "tpp_num=lambdify(variablestuple,t_second_der)\n",
    "phipp_num=lambdify(variablestuple,phi_second_der)\n",
    "rpp_num=lambdify(variablestuple,r_second_der)\n",
    "\n",
    "\n",
    "\n",
    "tpp_num(t,phi,r,tp,phip,rp)"
   ],
   "metadata": {
    "collapsed": false,
    "ExecuteTime": {
     "end_time": "2023-12-05T03:53:53.967984500Z",
     "start_time": "2023-12-05T03:53:53.924484500Z"
    }
   },
   "id": "dd036a06f6d03818"
  },
  {
   "cell_type": "code",
   "execution_count": 115,
   "outputs": [
    {
     "data": {
      "text/plain": "6.0*s*(-4*a**2 + 5*a*(a**2 + 27) - 36)/(9*a**2 - 27*s + 81)",
      "text/latex": "$\\displaystyle \\frac{6.0 s \\left(- 4 a^{2} + 5 a \\left(a^{2} + 27\\right) - 36\\right)}{9 a^{2} - 27 s + 81}$"
     },
     "execution_count": 115,
     "metadata": {},
     "output_type": "execute_result"
    }
   ],
   "source": [
    "tpp_num(1,2,3,4,5,6)"
   ],
   "metadata": {
    "collapsed": false,
    "ExecuteTime": {
     "end_time": "2023-12-05T03:54:37.543136400Z",
     "start_time": "2023-12-05T03:54:37.517136100Z"
    }
   },
   "id": "6dd87a2dd1d842ef"
  },
  {
   "cell_type": "code",
   "execution_count": 117,
   "outputs": [],
   "source": [
    "#define functions we will need \n",
    "def Delta(r):\n",
    "    delta=r**2 + a**2-r*s\n",
    "    return delta\n",
    "\n",
    "def P(r):\n",
    "    p=E*(r**2 + a**2) - a*L\n",
    "    return p\n",
    "\n",
    "def R(r):\n",
    "    R=-Delta(r)*((L-a*E)**2+m**2)+P(r)**2\n",
    "    return R\n",
    "\n",
    "#black hole params\n",
    "a=0 #BH spin param\n",
    "M=1 #BH mass param\n",
    "s=2*M #BH schwartzchild radius\n",
    "r_h=(s+np.sqrt(s**2-4*a**2))/2\n",
    "r_hi=(s-np.sqrt(s**2-4*a**2))/2\n",
    "\n",
    "#test particle\n",
    "m=0 #particle mass\n",
    "L=0 #particle angular momentum\n",
    "E=0.1#particle total energy\n",
    "r_0=4 #initial radial pos\n",
    "rp_0=0 #initial radial velocity\n",
    "phi_0=0 #initial angular pos\n",
    "phip_0=0\n",
    "t_0=0\n",
    "tp_0=1/E*(m**2+L+phip_0+(r_0*rp_0)**2/Delta(r_0))\n",
    "\n"
   ],
   "metadata": {
    "collapsed": false,
    "ExecuteTime": {
     "end_time": "2023-12-05T03:55:17.448475300Z",
     "start_time": "2023-12-05T03:55:17.437976100Z"
    }
   },
   "id": "913752f20f245536"
  },
  {
   "cell_type": "code",
   "execution_count": null,
   "outputs": [],
   "source": [
    "import scipy\n",
    "import numpy as np\n",
    "import matplotlib.pyplot as plt\n",
    "\n",
    "def EOM(t,y):\n",
    "    t=y[0]\n",
    "    phi=y[1]\n",
    "    r=y[2]\n",
    "    dt=y[3]\n",
    "    dphi=y[4]\n",
    "    dr=y[5]\n",
    "    \n",
    "    \n",
    "    dtprime=tpp_num(y)\n",
    "    dphiprime=phipp_num(y)\n",
    "    drprime=rpp_num(y)\n",
    "\n",
    "    \n",
    "    \n",
    "    dxmu=np.array([dt,dphi,dr,dtprime,dphi,prime,drprime])\n",
    "    return dxmu\n",
    "\n",
    "lambda0=0\n",
    "\n",
    "lambda_max=100000\n",
    "\n",
    "\n",
    "\n",
    "y0=np.array([0,0,r_0,tp_0,phip_0,rp_0])\n",
    "\n",
    "\n",
    "RK=scipy.integrate.RK45(EOM,lambda0,y0,lambda_max,max_step=0.01)"
   ],
   "metadata": {
    "collapsed": false
   },
   "id": "1aa8b27e77caeb89"
  },
  {
   "cell_type": "code",
   "execution_count": null,
   "outputs": [],
   "source": [
    "step_max=1000\n",
    "xmu=np.zeros((step_max,4))\n",
    "xmu[0,:]=y0\n",
    "\n",
    "reachedstep=0\n",
    "for lambstep in range(1,step_max):\n",
    "    try:\n",
    "        RK.step()   \n",
    "        x[lambstep,:]=RK.y\n",
    "        reachedstep=lambstep\n",
    "    except RuntimeError:\n",
    "        break\n",
    "        \n",
    "x_trunc=x[0:reachedstep,:] #x without the trailing zero rows"
   ],
   "metadata": {
    "collapsed": false
   },
   "id": "ee93d3cabecf090c"
  }
 ],
 "metadata": {
  "kernelspec": {
   "display_name": "Python 3",
   "language": "python",
   "name": "python3"
  },
  "language_info": {
   "codemirror_mode": {
    "name": "ipython",
    "version": 2
   },
   "file_extension": ".py",
   "mimetype": "text/x-python",
   "name": "python",
   "nbconvert_exporter": "python",
   "pygments_lexer": "ipython2",
   "version": "2.7.6"
  }
 },
 "nbformat": 4,
 "nbformat_minor": 5
}
