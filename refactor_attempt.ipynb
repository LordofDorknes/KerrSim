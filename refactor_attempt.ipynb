{
 "cells": [
  {
   "cell_type": "code",
   "execution_count": null,
   "id": "initial_id",
   "metadata": {
    "collapsed": true
   },
   "outputs": [],
   "source": [
    "#black hole params\n",
    "a=0.998 #BH spin param\n",
    "M=1 #BH mass param\n",
    "s=2*M #BH schwartzchild radius\n",
    "\n",
    "#horizon radii\n",
    "r_h=(s+np.sqrt(s**2-4*a**2))/2\n",
    "r_hi=(s-np.sqrt(s**2-4*a**2))/2\n",
    "\n",
    "#ergoregion (valid only in equatorial plane)\n",
    "r_e=2*M\n",
    "r_ei=0\n",
    "\n",
    "#test particle\n",
    "m=0.00 #particle mass\n",
    "r_0=3 #initial radial pos\n",
    "rp_0=-0.05 #initial radial (pseudo?)momentum\n",
    "\n",
    "phi_0=0 #initial angular pos\n",
    "phip_0=0.020395#initial angular (pseudo?)momentum\n",
    "\n",
    "t_0=0\n",
    "\n",
    "    \n",
    "    \n",
    "def init_cont_completer(bh_params,init_cond):\n",
    "    \n",
    "    \n",
    "    init_cond_equation=lambda tdot : m**2 - (1-s/r_0)*tdot**2 - 2*a*s*phip_0*tdot/r_0+(r_0**2+a**2+a**2*s/r_0)*phip_0**2+rp_0**2*r_0**2/(Delta(r_0))\n",
    "    try:\n",
    "        tp_0_guess=(-a*s*phip_0/r_0+math.sqrt(a*a*s*phip_0*phip_0/r_0 + (1-s/r_0)*(m**2 + (r_0**2+a**2)*phip_0**2 + (r_0*rp_0)**2/Delta(r_0))))/(1-s/r_0)\n",
    "        #this guess is the analytic solution assuming r is not equal to s and that initial conditions exist\n",
    "    except ZeroDivisionError:\n",
    "        tp_0_guess =0.05\n",
    "    \n",
    "    tp_0=fsolve(init_cond_equation,tp_0_guess)[-1]\n",
    "    \n",
    "    \n",
    "def TrajSolver(BH_params,init_cond,max_step_size):\n",
    "    \n",
    "    \n",
    "    return trajectory\n",
    "\n",
    "    \n",
    "    \n",
    "bhparams=[M,a,2M]#M,a,s\n",
    "\n",
    "    \n",
    "    "
   ]
  }
 ],
 "metadata": {
  "kernelspec": {
   "display_name": "Python 3",
   "language": "python",
   "name": "python3"
  },
  "language_info": {
   "codemirror_mode": {
    "name": "ipython",
    "version": 2
   },
   "file_extension": ".py",
   "mimetype": "text/x-python",
   "name": "python",
   "nbconvert_exporter": "python",
   "pygments_lexer": "ipython2",
   "version": "2.7.6"
  }
 },
 "nbformat": 4,
 "nbformat_minor": 5
}
